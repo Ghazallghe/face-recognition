{
 "cells": [
  {
   "cell_type": "code",
   "execution_count": 14,
   "metadata": {},
   "outputs": [],
   "source": [
    "import tensorflow as tf\n",
    "import matplotlib.pyplot as plt"
   ]
  },
  {
   "cell_type": "code",
   "execution_count": 2,
   "metadata": {},
   "outputs": [],
   "source": [
    "def gpu_setup():\n",
    "    gpus = tf.config.experimental.list_physical_devices('GPU')\n",
    "    print(\"Detected GPU\", gpus)\n",
    "    print(\"Num GPUs Available: \", len(gpus))\n",
    "    # Manage the memory each gpu can use\n",
    "    for gpu in gpus:\n",
    "        tf.config.experimental.set_memory_growth(gpu, True)"
   ]
  },
  {
   "cell_type": "code",
   "execution_count": 12,
   "metadata": {},
   "outputs": [],
   "source": [
    "def plot_images(dataset, class_names, rows, cols, data_augmentation=None):\n",
    "    plt.figure(figsize=(10, 10))\n",
    "    for images, labels in dataset.take(1):\n",
    "        if data_augmentation is not None:\n",
    "            images = data_augmentation(images)\n",
    "\n",
    "        n = cols * rows\n",
    "        for i in range(n):\n",
    "            ax = plt.subplot(rows, cols, i + 1)\n",
    "            plt.imshow(images[i].numpy().astype(\"uint8\"))\n",
    "            plt.title(class_names[labels[i]])\n",
    "            plt.axis(\"off\")"
   ]
  },
  {
   "cell_type": "code",
   "execution_count": 9,
   "metadata": {},
   "outputs": [],
   "source": [
    "def batch_examination(dataset):\n",
    "    for image_batch, labels_batch in dataset:\n",
    "        print(\"Each batch image shape:\", image_batch.shape)\n",
    "        print(\"Each batch label shape:\", labels_batch.shape)\n",
    "        break"
   ]
  },
  {
   "cell_type": "code",
   "execution_count": 15,
   "metadata": {},
   "outputs": [],
   "source": [
    "def plot_augmentations(dataset, data_augmentation, rows, cols):\n",
    "    plt.figure(figsize=(10, 10))\n",
    "    n = rows * cols\n",
    "    for images, _ in dataset.take(1):\n",
    "        for i in range(n):\n",
    "            augmented_images = data_augmentation(images)\n",
    "            ax = plt.subplot(rows, cols, i + 1)\n",
    "            plt.imshow(augmented_images[0].numpy().astype(\"uint8\"))\n",
    "            plt.axis(\"off\")"
   ]
  },
  {
   "cell_type": "code",
   "execution_count": 18,
   "metadata": {},
   "outputs": [],
   "source": [
    "TRAIN_COLOR = 'hotpink'\n",
    "VAL_COLOR = 'deepskyblue'\n",
    "\n",
    "def plot_loss_accuracy(history, epochs):\n",
    "    acc = history.history['accuracy']\n",
    "    val_acc = history.history['val_accuracy']\n",
    "\n",
    "    loss = history.history['loss']\n",
    "    val_loss = history.history['val_loss']\n",
    "\n",
    "    epochs_range = range(epochs)\n",
    "\n",
    "    plt.figure(figsize=(8, 4))\n",
    "    plt.subplot(1, 2, 1)\n",
    "    plt.plot(epochs_range, acc, TRAIN_COLOR, label='Training Accuracy')\n",
    "    plt.plot(epochs_range, val_acc, VAL_COLOR, label='Validation Accuracy')\n",
    "    plt.legend(loc='lower right')\n",
    "    plt.xlabel('Epochs')\n",
    "    plt.ylabel('Accuracy')\n",
    "    plt.title('Training and Validation Accuracy')\n",
    "\n",
    "    plt.subplot(1, 2, 2)\n",
    "    plt.plot(epochs_range, loss, TRAIN_COLOR, label='Training Loss')\n",
    "    plt.plot(epochs_range, val_loss, VAL_COLOR, label='Validation Loss')\n",
    "    plt.legend(loc='upper right')\n",
    "    plt.title('Training and Validation Loss')\n",
    "    plt.xlabel('Epochs')\n",
    "    plt.ylabel('Loss')\n",
    "    plt.show()"
   ]
  }
 ],
 "metadata": {
  "kernelspec": {
   "display_name": "Python 3 (ipykernel)",
   "language": "python",
   "name": "python3"
  },
  "language_info": {
   "codemirror_mode": {
    "name": "ipython",
    "version": 3
   },
   "file_extension": ".py",
   "mimetype": "text/x-python",
   "name": "python",
   "nbconvert_exporter": "python",
   "pygments_lexer": "ipython3",
   "version": "3.12.6"
  }
 },
 "nbformat": 4,
 "nbformat_minor": 4
}
